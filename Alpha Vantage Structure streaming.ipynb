{
 "cells": [
  {
   "cell_type": "code",
   "execution_count": 0,
   "metadata": {
    "application/vnd.databricks.v1+cell": {
     "cellMetadata": {},
     "inputWidgets": {},
     "nuid": "dd3bd96c-f891-43a7-8726-8b1b3a2305fc",
     "showTitle": false,
     "title": ""
    }
   },
   "outputs": [],
   "source": [
    "from pyspark.sql.types import *\n",
    "from pyspark.sql.functions import col, from_json\n",
    "import pyspark.sql.functions as F\n",
    "\n",
    "# Definisanje sheme na osnovu strukture vašeg CSV fajla\n",
    "schema = StructType([\n",
    "    StructField(\"Title\", StringType(), True),\n",
    "    StructField(\"URL\", StringType(), True),\n",
    "    StructField(\"Time Published\", TimestampType(), True),\n",
    "    StructField(\"Authors\", StringType(), True),\n",
    "    StructField(\"Summary\", StringType(), True),\n",
    "    StructField(\"Banner Image\", StringType(), True),\n",
    "    StructField(\"Source\", StringType(), True),\n",
    "    StructField(\"Category Within Source\", StringType(), True),\n",
    "    StructField(\"Source Domain\", StringType(), True),\n",
    "    StructField(\"Topics\", StringType(), True),\n",
    "    StructField(\"Overall Sentiment Score\", FloatType(), True),\n",
    "    StructField(\"Overall Sentiment Label\", StringType(), True),\n",
    "    StructField(\"Ticker Sentiment\", StringType(), True)\n",
    "])\n",
    "\n",
    "# Čitanje podataka u realnom vremenu\n",
    "sdf = (\n",
    "    spark\n",
    "    .readStream\n",
    "    .schema(schema)\n",
    "    .option(\"maxFilesPerTrigger\", 1)\n",
    "    .option(\"header\", \"true\")\n",
    "    .csv(\"/FileStore/tables/\")  # Zamijenite 'file_location' s putanjom do vašeg CSV fajla\n",
    ")\n",
    "\n",
    "# Obrada podataka u realnom vremenu\n",
    "# Primer: Filtriranje podataka i grupisanje po izvoru i sentimentu\n",
    "sdf_processed = (\n",
    "    sdf\n",
    "    .filter(col(\"Time Published\").isNotNull())\n",
    "    .groupBy(\"Source\", \"Overall Sentiment Label\")\n",
    "    .count()\n",
    ")\n",
    "\n",
    "# Upisivanje rezultata streaming obrade u memoriju za dalji upit\n",
    "query = (\n",
    "    sdf_processed\n",
    "    .writeStream\n",
    "    .format(\"memory\")\n",
    "    .queryName(\"source_sentiment_counts\")\n",
    "    .outputMode(\"complete\")\n",
    "    .start()\n",
    ")\n",
    "\n",
    "spark.sql(\"SELECT * FROM source_sentiment_counts\")\n"
   ]
  },
  {
   "cell_type": "code",
   "execution_count": 0,
   "metadata": {
    "application/vnd.databricks.v1+cell": {
     "cellMetadata": {},
     "inputWidgets": {},
     "nuid": "4f84ddd6-e3e1-46b2-b4c4-4d742db91a15",
     "showTitle": false,
     "title": ""
    }
   },
   "outputs": [],
   "source": [
    "Dobijanje Top 5 Izvora po Ukupnom Broju Zapisa:"
   ]
  },
  {
   "cell_type": "code",
   "execution_count": 0,
   "metadata": {
    "application/vnd.databricks.v1+cell": {
     "cellMetadata": {},
     "inputWidgets": {},
     "nuid": "ee952b68-dae7-4b49-b2e8-790ab05861ef",
     "showTitle": false,
     "title": ""
    }
   },
   "outputs": [],
   "source": [
    "top_sources = spark.sql(\"\"\"\n",
    "    SELECT Source, SUM(count) as TotalCount\n",
    "    FROM source_sentiment_counts\n",
    "    GROUP BY Source\n",
    "    ORDER BY TotalCount DESC\n",
    "    LIMIT 5\n",
    "\"\"\")\n",
    "top_sources.show()"
   ]
  },
  {
   "cell_type": "code",
   "execution_count": 0,
   "metadata": {
    "application/vnd.databricks.v1+cell": {
     "cellMetadata": {},
     "inputWidgets": {},
     "nuid": "87a5480e-597d-457d-877c-5f1cb52a5317",
     "showTitle": false,
     "title": ""
    }
   },
   "outputs": [],
   "source": [
    "# Broj Zapisa po Sentimentu za Određeni Izvor:\n",
    "benzinga_sentiment_count = spark.sql(\"\"\"\n",
    "    SELECT `Overall Sentiment Label`, count\n",
    "    FROM source_sentiment_counts\n",
    "    WHERE Source = 'Benzinga'\n",
    "    ORDER BY count DESC\n",
    "\"\"\")\n",
    "benzinga_sentiment_count.show()\n"
   ]
  },
  {
   "cell_type": "code",
   "execution_count": 0,
   "metadata": {
    "application/vnd.databricks.v1+cell": {
     "cellMetadata": {},
     "inputWidgets": {},
     "nuid": "4889ca91-d818-455e-88c7-d47df333eebe",
     "showTitle": false,
     "title": ""
    }
   },
   "outputs": [],
   "source": [
    "# Prikaz Izvora sa Najvišim Pozitivnim Sentimentom:\n",
    "highest_positive_sentiment_source = spark.sql(\"\"\"\n",
    "    SELECT Source, `Overall Sentiment Label`, count\n",
    "    FROM source_sentiment_countsa\n",
    "    WHERE `Overall Sentiment Label` = 'Positive'\n",
    "    ORDER BY count DESC\n",
    "    LIMIT 1\n",
    "\"\"\")\n",
    "highest_positive_sentiment_source.show()\n"
   ]
  },
  {
   "cell_type": "code",
   "execution_count": 0,
   "metadata": {
    "application/vnd.databricks.v1+cell": {
     "cellMetadata": {},
     "inputWidgets": {},
     "nuid": "eecf33dd-a641-4d56-8946-c3d5c5127818",
     "showTitle": false,
     "title": ""
    }
   },
   "outputs": [],
   "source": [
    "# Trendovi Sentimenta Tokom Vremena (ako ste primenili prozore vremena):\n",
    "sentiment_trends = spark.sql(\"\"\"\n",
    "    SELECT window, `Overall Sentiment Label`, SUM(count) as TotalCount\n",
    "    FROM source_sentiment_counts\n",
    "    GROUP BY window, `Overall Sentiment Label`\n",
    "    ORDER BY window\n",
    "\"\"\")\n",
    "sentiment_trends.show()\n"
   ]
  }
 ],
 "metadata": {
  "application/vnd.databricks.v1+notebook": {
   "dashboards": [],
   "language": "python",
   "notebookMetadata": {
    "pythonIndentUnit": 4
   },
   "notebookName": "Alpha Vantage Structure streaming",
   "widgets": {}
  }
 },
 "nbformat": 4,
 "nbformat_minor": 0
}
